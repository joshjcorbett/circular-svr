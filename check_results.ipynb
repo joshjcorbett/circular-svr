{
 "cells": [
  {
   "cell_type": "code",
   "execution_count": 4,
   "metadata": {},
   "outputs": [],
   "source": [
    "import numpy as np\n",
    "\n",
    "results = np.genfromtxt('results.csv', delimiter=',')"
   ]
  },
  {
   "cell_type": "code",
   "execution_count": 6,
   "metadata": {},
   "outputs": [
    {
     "name": "stdout",
     "output_type": "stream",
     "text": [
      "Mean circular difference between presented and reported orientations is: 25.0 degrees.\n"
     ]
    }
   ],
   "source": [
    "# calculate the circular difference between the first two columns\n",
    "# evaluate the model by calculating acute angular error between predictions and actuals\n",
    "actuals = results[:, 0]\n",
    "predictions = results[:, 1]\n",
    "\n",
    "# evaluate the model by calculating acute angular error between predictions and actuals\n",
    "error1 = abs(actuals - predictions)\n",
    "error2 = abs(abs(actuals - predictions) - 180) # adjust this line if data is not in range [0, 180)\n",
    "\n",
    "errors = np.minimum(error1, error2)\n",
    "\n",
    "print('Mean circular difference between actual and predicted orientations is', np.round(np.mean(errors), 1), 'degrees.')"
   ]
  }
 ],
 "metadata": {
  "kernelspec": {
   "display_name": "fslpython",
   "language": "python",
   "name": "python3"
  },
  "language_info": {
   "codemirror_mode": {
    "name": "ipython",
    "version": 3
   },
   "file_extension": ".py",
   "mimetype": "text/x-python",
   "name": "python",
   "nbconvert_exporter": "python",
   "pygments_lexer": "ipython3",
   "version": "3.8.13"
  }
 },
 "nbformat": 4,
 "nbformat_minor": 2
}
